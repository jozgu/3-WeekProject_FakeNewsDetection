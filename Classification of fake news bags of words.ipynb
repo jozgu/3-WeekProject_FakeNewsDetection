{
 "cells": [
  {
   "cell_type": "markdown",
   "id": "d9837777",
   "metadata": {},
   "source": [
    "# Classification of fake news"
   ]
  },
  {
   "cell_type": "markdown",
   "id": "fca13f8f",
   "metadata": {},
   "source": [
    "I am using the dataset from Kaggle. I first want to retrieve this and convert it to a dataframe object"
   ]
  },
  {
   "cell_type": "code",
   "execution_count": 68,
   "id": "dc27305c",
   "metadata": {},
   "outputs": [],
   "source": [
    "import pandas as pd\n",
    "import numpy as np\n",
    "pd.set_option('display.max_columns', 500)"
   ]
  },
  {
   "cell_type": "code",
   "execution_count": 85,
   "id": "c086d11d",
   "metadata": {},
   "outputs": [
    {
     "name": "stdout",
     "output_type": "stream",
     "text": [
      "65698\n"
     ]
    }
   ],
   "source": [
    "# Importer det første datasæt\n",
    "df1 = pd.read_csv(\"True.csv\")\n",
    "df2 = pd.read_csv(\"Fake.csv\")\n",
    "\n",
    "df = pd.concat([df1, df2], ignore_index=True)\n",
    "\n",
    "X1 = np.array(df[\"text\"])\n",
    "\n",
    "# Lav target array, hvor 0 er en troværdig artikel og 1 er en utroværdig artikel\n",
    "a = np.zeros(len(df1))\n",
    "b = np.ones(len(df2))\n",
    "y1 = np.hstack((a, b))\n",
    "\n",
    "# Importer det andet datasæt\n",
    "df_second = pd.read_csv(\"Train.csv\")\n",
    "X2 = np.array(df_second[\"text\"])\n",
    "\n",
    "y2 = np.array(df_second[\"label\"])\n",
    "\n",
    "# Saml datasættene til et stort datasæt\n",
    "X = np.append(X1, X2)\n",
    "y = np.hstack((y1, y2))\n",
    "print(np.size(y))"
   ]
  },
  {
   "cell_type": "code",
   "execution_count": 87,
   "id": "5e79f621",
   "metadata": {},
   "outputs": [
    {
     "name": "stdout",
     "output_type": "stream",
     "text": [
      "0\n",
      "500\n",
      "1000\n",
      "1500\n",
      "2000\n",
      "2500\n",
      "3000\n",
      "3500\n",
      "4000\n",
      "4500\n",
      "5000\n",
      "5500\n",
      "6000\n",
      "6500\n",
      "7000\n",
      "7500\n",
      "8000\n",
      "8500\n",
      "9000\n",
      "9500\n",
      "10000\n",
      "10500\n",
      "11000\n",
      "11500\n",
      "12000\n",
      "12500\n",
      "13000\n",
      "13500\n",
      "14000\n",
      "14500\n",
      "15000\n",
      "15500\n",
      "16000\n",
      "16500\n",
      "17000\n",
      "17500\n",
      "18000\n",
      "18500\n",
      "19000\n",
      "19500\n",
      "20000\n",
      "20500\n",
      "21000\n",
      "21500\n",
      "22000\n",
      "22500\n",
      "23000\n",
      "23500\n",
      "24000\n",
      "24500\n",
      "25000\n",
      "25500\n",
      "26000\n",
      "26500\n",
      "27000\n",
      "27500\n",
      "28000\n",
      "28500\n",
      "29000\n",
      "29500\n",
      "30000\n",
      "30500\n",
      "31000\n",
      "31500\n",
      "32000\n",
      "32500\n",
      "33000\n",
      "33500\n",
      "34000\n",
      "34500\n",
      "35000\n",
      "35500\n",
      "36000\n",
      "36500\n",
      "37000\n",
      "37500\n",
      "38000\n",
      "38500\n",
      "39000\n",
      "39500\n",
      "40000\n",
      "40500\n",
      "41000\n",
      "41500\n",
      "42000\n",
      "42500\n",
      "43000\n",
      "43500\n",
      "44000\n",
      "44500\n",
      "45000\n",
      "45500\n",
      "46000\n",
      "46500\n",
      "47000\n",
      "47500\n",
      "48000\n",
      "48500\n",
      "49000\n",
      "49500\n",
      "50000\n",
      "50500\n",
      "51000\n",
      "51500\n",
      "52000\n",
      "52500\n",
      "53000\n",
      "53500\n",
      "54000\n",
      "54500\n",
      "55000\n",
      "55500\n",
      "56000\n",
      "56500\n",
      "57000\n",
      "57500\n",
      "58000\n",
      "58500\n",
      "59000\n",
      "59500\n",
      "60000\n",
      "60500\n",
      "61000\n",
      "61500\n",
      "62000\n",
      "62500\n",
      "63000\n",
      "63500\n",
      "64000\n",
      "64500\n",
      "65000\n",
      "65500\n",
      "(65698,)\n",
      "(64539,)\n",
      "65698\n",
      "64539\n"
     ]
    }
   ],
   "source": [
    "import re\n",
    "from nltk.stem import PorterStemmer\n",
    "ps = PorterStemmer()\n",
    "failed_files = []\n",
    "corpus = []\n",
    "for i, text in enumerate(X):\n",
    "    if i % 500 == 0:\n",
    "        print(i)\n",
    "    # try-statement benyttes, da nogen artikler blot indeholder nan, hvilket vil give fejl senere\n",
    "    try:\n",
    "        text_oa = re.sub(\"[^a-zA-Z]\", \" \", text)\n",
    "\n",
    "        text_oa = text_oa.lower()\n",
    "        text_oa = text_oa.split()\n",
    "\n",
    "        # stopwords filtreres fra og artikler med 5 eller færrere ord tilbage fjernes, da vi ikke mener at de bidrager\n",
    "        # til opfattelsen af fake news. Dette hjælper også til at undgå fejl senere\n",
    "\n",
    "        filtered_article = [ps.stem(w) for w in text_oa if w not in stop_words and len(w) > 1]\n",
    "        if len(filtered_article) > 5:\n",
    "            corpus.append(\" \".join(filtered_article))\n",
    "        else:\n",
    "            failed_files.append(i)\n",
    "    except TypeError:\n",
    "        failed_files.append(i)\n",
    "\n",
    "# Tilpas target, da nogen artikler er blevet fjernet\n",
    "print(np.shape(y))\n",
    "y = np.delete(y, failed_files)\n",
    "print(np.shape(y))\n",
    "\n",
    "print(len(X))\n",
    "print(len(corpus))"
   ]
  },
  {
   "cell_type": "code",
   "execution_count": 88,
   "id": "6b14fea4",
   "metadata": {},
   "outputs": [
    {
     "name": "stdout",
     "output_type": "stream",
     "text": [
      "['washington reuter head conserv republican faction congress vote month huge expans nation debt pay tax cut call fiscal conserv sunday urg budget restraint keep sharp pivot way among republican repres mark meadow speak cb face nation drew hard line feder spend lawmak brace battl januari return holiday wednesday lawmak begin tri pass feder budget fight like link issu immigr polici even novemb congression elect campaign approach republican seek keep control congress presid donald trump republican want big budget increas militari spend democrat also want proport increas non defens discretionari spend program support educ scientif research infrastructur public health environment protect trump administr alreadi will say go increas non defens discretionari spend percent meadow chairman small influenti hous freedom caucu said program democrat say enough need give govern pay rais percent fiscal conserv see rational eventu run peopl money said meadow among republican vote late decemb parti debt financ tax overhaul expect balloon feder budget deficit add trillion year trillion nation debt interest hear mark talk fiscal respons democrat repres joseph crowley said cb crowley said republican tax bill would requir unit state borrow trillion paid futur gener financ tax cut corpor rich one least fiscal respons bill ever seen pass histori hous repres think go pay mani mani year come crowley said republican insist tax packag biggest tax overhaul year boost economi job growth hous speaker paul ryan also support tax bill recent went meadow make clear radio interview welfar entitl reform parti often call would top republican prioriti republican parlanc entitl program mean food stamp hous assist medicar medicaid health insur elderli poor disabl well program creat washington assist needi democrat seiz ryan earli decemb remark say show republican would tri pay tax overhaul seek spend cut social program goal hous republican may take back seat senat vote democrat need approv budget prevent govern shutdown democrat use leverag senat republican narrowli control defend discretionari non defens program social spend tackl issu dreamer peopl brought illeg countri children trump septemb put march expir date defer action childhood arriv daca program protect young immigr deport provid work permit presid said recent twitter messag want fund propos mexican border wall immigr law chang exchang agre help dreamer repres debbi dingel told cb favor link issu polici object wall fund need daca clean said wednesday trump aid meet congression leader discuss issu follow weekend strategi session trump republican leader jan white hous said trump also schedul meet sunday florida republican governor rick scott want emerg aid hous pass billion aid packag hurrican florida texa puerto rico wildfir california packag far exceed billion request trump administr senat yet vote aid', 'washington reuter transgend peopl allow first time enlist militari start monday order feder court pentagon said friday presid donald trump administr decid appeal rule block transgend ban two feder appeal court one washington one virginia last week reject administr request put hold order lower court judg requir militari begin accept transgend recruit jan justic depart offici said administr challeng rule depart defens announc releas independ studi issu come week rather litig interim appeal occur administr decid wait dod studi continu defend presid law author district court meantim offici said speak condit anonym septemb pentagon said creat panel senior offici studi implement direct trump prohibit transgend individu serv defens depart feb submit plan trump lawyer repres current serv transgend servic member aspir recruit said expect administr appeal rule conserv major suprem court hope would happen pentagon spokeswoman heather babb said statement mandat court order depart defens prepar begin access transgend applic militari servic jan applic must meet access standard jennif levi lawyer gay lesbian transgend advocaci group glad call decis appeal great news hope mean govern come see way justifi ban good militari countri levi said glad american civil liberti union repres plaintiff lawsuit file administr move appeal hard line conserv support trump announc juli would prohibit transgend peopl serv militari revers democrat presid barack obama polici accept trump said twitter time militari cannot burden tremend medic cost disrupt transgend militari would entail four feder judg baltimor washington seattl riversid california issu rule block trump ban legal challeng republican presid polici proceed judg said ban would like violat right constitut equal protect law pentagon dec issu guidelin recruit personnel order enlist transgend applic jan memo outlin medic requir specifi applic sex would identifi even undergar would wear trump administr previous said legal paper arm forc prepar train thousand personnel medic standard need process transgend applic might accept individu medic fit servic obama administr set deadlin juli begin accept transgend recruit trump defens secretari jame matti postpon date jan presid ban put indefinit trump taken step aim roll back transgend right octob administr said feder law ban gender base workplac discrimin protect transgend employe revers anoth obama era posit februari trump rescind guidanc issu obama administr say public school allow transgend student use restroom correspond gender ident', 'washington reuter special counsel investig link russia presid trump elect campaign continu without interfer despit call trump administr alli republican lawmak shut promin republican senat said sunday lindsey graham serv senat arm forc judiciari committe said depart justic special counsel robert mueller need carri russia investig without polit interfer investig go forward investig conduct without polit influenc graham said cb face nation news program need let mr mueller job think right guy right time question russia may interf elect trump campaign may link co ordin effort loom white hous sinc trump took offic januari show sign reced trump prepar second year power despit intensifi rhetor trump alli recent week accus mueller team bia republican presid trump seem undercut support interview last week new york time said expect mueller go fair russia role elect question possibl link trump campaign focu multipl inquiri washington three committe senat hous repres investig well mueller whose team may took earlier probe launch feder bureau investig fbi sever member trump campaign administr convict indict investig trump alli deni collus russia campaign kremlin deni meddl elect graham said still want examin fbi use dossier link trump russia compil former british spi christoph steel prompt trump alli republican question mueller inquiri saturday new york time report dossier trigger earli fbi probe tip former trump campaign foreign polici advis georg papadopoulo australian diplomat russia damag inform former trump rival hillari clinton want somebodi look way depart justic use dossier bother greatli way use want somebodi look graham said said russia investig must continu matter fact would hurt us ignor said', 'washington reuter trump campaign advis georg papadopoulo told australian diplomat may russia polit dirt democrat presidenti candid hillari clinton new york time report saturday convers papadopoulo diplomat alexand downer london drive factor behind fbi decis open counter intellig investig moscow contact trump campaign time report two month meet australian offici pass inform came papadopoulo american counterpart leak democrat email began appear onlin accord newspap cite four current former foreign offici besid inform australian probe feder bureau investig also propel intellig friendli govern includ british dutch time said papadopoulo chicago base intern energi lawyer plead guilti oct lie fbi agent contact peopl claim tie top russian offici first crimin charg alleg link trump campaign russia white hous play former aid campaign role say extrem limit action took would new york time howev report papadopoulo help set meet candid donald trump egyptian presid abdel fattah al sisi edit outlin trump first major foreign polici speech april feder investig led special counsel robert mueller hung trump white hous sinc took offic almost year ago trump alli recent accus mueller team bias republican presid lawyer papadopoulo immedi respond request reuter comment mueller offic declin comment trump white hous attorney ty cobb declin comment new york time report respect special counsel process comment matter said statement mueller charg four trump associ includ papadopoulo investig russia deni interf elect trump said collus campaign moscow', 'seattl washington reuter presid donald trump call postal servic friday charg much ship packag amazon amzn pick anoth fight onlin retail giant critic past unit state post offic lose mani billion dollar year charg amazon other littl deliv packag make amazon richer post offic dumber poorer charg much trump wrote twitter presid tweet drew fresh attent fragil financ postal servic time ten million parcel ship countri holiday season postal servic run big loss independ agenc within feder govern receiv tax dollar oper expens accord websit packag deliveri becom increasingli import part busi internet led sharp declin amount first class letter presid determin postal rate set postal regulatori commiss independ govern agenc commission select presid polit parti panel rais price packag almost percent novemb amazon found jeff bezo remain chief execut offic retail compani richest person world accord bloomberg news bezo also own washington post newspap trump repeatedli rail critic news media tweet past year trump said amazon washington post fabric stori said amazon pay sale tax true hurt retail part pattern former businessman realiti televis host period turn ire big american compani sinc took offic januari daniel ive research analyst gbh insight said trump comment could taken warn retail giant howev said concern amazon see price hike futur howev risk amazon clearli awar build distribut system aggress said amazon shown interest past shift deliveri servic includ test drone deliveri compani spent billion ship percent total oper expens year amazon share percent earli afternoon overal stock price slightli friday satish jindel presid shipmatrix inc analyz ship data disput idea postal servic charg less unit parcel servic inc up fedex corp fdx biggest player parcel deliveri busi unit state mani custom get lower rate up fedex would get post offic compar servic said postal servic deliv percent amazon packag million day current peak year end holiday ship season jindel said seattl base compani post offic agreement mail carrier take amazon packag last leg journey post offic custom doorstep amazon carrier up percent fedex third percent accord jindel trump comment tap debat whether postal servic price kept pace rise commerc flood mail small packag privat compani like up long claim current system unfairli undercut busi steve gaut spokesman up note compani valu product relationship postal servic file postal regulatori commiss concern postal servic method cover cost repres amazon white hous postal servic fedex declin comment immedi avail comment trump tweet accord annual report postal servic lost billion year deficit balloon billion postal servic revenu first class mail market mail period flat declin revenu packag deliveri percent sinc billion fiscal year end sept also lost billion revenu temporari surcharg expir april accord govern account offic report februari servic face grow personnel expens particularli billion unfund pension benefit liabil postal servic announc plan cut cost law postal servic set price packag deliveri cover cost attribut servic postal servic alloc percent total cost busi ship packag even though line busi percent total revenu']\n"
     ]
    }
   ],
   "source": [
    "print(corpus[:5])"
   ]
  },
  {
   "cell_type": "code",
   "execution_count": 89,
   "id": "8c121517",
   "metadata": {},
   "outputs": [
    {
     "name": "stdout",
     "output_type": "stream",
     "text": [
      "Vocabulary size: 157735\n",
      "bag_of_words: <64539x157735 sparse matrix of type '<class 'numpy.int64'>'\n",
      "\twith 11869003 stored elements in Compressed Sparse Row format>\n"
     ]
    }
   ],
   "source": [
    "# Corpus for datasættet omdannes til en bag of words\n",
    "from sklearn.feature_extraction.text import CountVectorizer\n",
    "vect = CountVectorizer()\n",
    "vect.fit(corpus)\n",
    "\n",
    "print(\"Vocabulary size: {}\".format(len(vect.vocabulary_)))\n",
    "\n",
    "bag_of_words = vect.transform(corpus)\n",
    "print(\"bag_of_words: {}\".format(repr(bag_of_words)))"
   ]
  },
  {
   "cell_type": "code",
   "execution_count": 95,
   "id": "3f0e2b8f",
   "metadata": {},
   "outputs": [
    {
     "name": "stdout",
     "output_type": "stream",
     "text": [
      "Number of features: 157735\n",
      "Every 500th feature:\n",
      "['aa', 'acheson', 'afir', 'akiba', 'allnewspipelin', 'amriki', 'antibiot', 'arb', 'ashkenazim', 'augtellez', 'azzad', 'bankhead', 'bazhina', 'benbarto', 'bfwogsdli', 'blaaaaaagh', 'boghossian', 'boyfriend', 'brocksmith', 'buress', 'callerbut', 'carozza', 'cemment', 'cheater', 'christiebooktitl', 'claybrook', 'colickey', 'conflit', 'cornczech', 'cremitari', 'cursor', 'dannyzuk', 'decirlo', 'deodoro', 'dhati', 'disgfsb', 'dominski', 'dron', 'dystrophin', 'ehgpcnwpg', 'embl', 'enviada', 'esquadra', 'executiveth', 'fallist', 'feltman', 'fisherhil', 'foray', 'fremmed', 'gabl', 'gbmnyc', 'getadslength', 'glaciologist', 'gopwithh', 'grigoropoulo', 'gurkentrupp', 'hambley', 'haussmanian', 'henni', 'hinf', 'hongcai', 'humblot', 'ideologicznej', 'impract', 'inni', 'iordan', 'iwmqedylyxhiem', 'jazirah', 'jinx', 'juc', 'kalvin', 'kbed', 'khazar', 'kleider', 'koryto', 'kuran', 'landofthefre', 'leavi', 'lgm', 'littlelivesmatt', 'losgoy', 'lydic', 'maison', 'mara', 'masum', 'mci', 'memel', 'michellebvd', 'miradoreltd', 'mogul', 'moschochor', 'mukemmel', 'mzu', 'naureen', 'netti', 'nighti', 'nonpregn', 'nullifi', 'ocx', 'omiso', 'ortel', 'oward', 'paraffin', 'pbr', 'perserver', 'piggyback', 'plush', 'porvoo', 'preponder', 'prophetess', 'purpos', 'quarrantin', 'raiwind', 'realclear', 'registado', 'researchget', 'rickscott', 'rockwel', 'rrikrvwon', 'sabanc', 'sandersdown', 'scarr', 'scribbl', 'senkaku', 'shana', 'shopfront', 'simplex', 'slingshot', 'solnick', 'spg', 'stapler', 'stopthejewhatredoncampu', 'suffic', 'suwanne', 'taillef', 'tazzyquest', 'testament', 'thinkfoodgroup', 'tishomingo', 'torwand', 'triabl', 'ttesdv', 'tyrannei', 'unbow', 'unphas', 'ustem', 'vcf', 'vial', 'void', 'walassa', 'weei', 'whoever', 'wkzcm', 'wuerttemberg', 'xxwq', 'yleys', 'zander', 'zlg']\n"
     ]
    }
   ],
   "source": [
    "# Undersøg parametre for bag_of_words\n",
    "feature_names = vect.get_feature_names()\n",
    "print(\"Number of features: {}\".format(len(feature_names)))\n",
    "print(\"Every 500th feature:\\n{}\".format(feature_names[::1000]))"
   ]
  },
  {
   "cell_type": "code",
   "execution_count": 91,
   "id": "8fb7dc0c",
   "metadata": {},
   "outputs": [
    {
     "name": "stdout",
     "output_type": "stream",
     "text": [
      "Training articles: 48404\n",
      "Test articles: 16135\n"
     ]
    }
   ],
   "source": [
    "# Dataen opdeles nu i en træningsdel og en testdel\n",
    "from sklearn.model_selection import train_test_split\n",
    "\n",
    "# Datasæt 1\n",
    "X_train, X_test, y_train, y_test = train_test_split(bag_of_words, y, random_state=0)\n",
    "print(\"Training articles: {}\\nTest articles: {}\".format(np.size(y_train), np.size(y_test)))"
   ]
  },
  {
   "cell_type": "code",
   "execution_count": 92,
   "id": "8f925633",
   "metadata": {},
   "outputs": [
    {
     "name": "stdout",
     "output_type": "stream",
     "text": [
      "Dataset 1 training score: 0.9997727460540451\n",
      "Dataset 1 test score: 0.9625658506352649\n"
     ]
    }
   ],
   "source": [
    "from sklearn.linear_model import LogisticRegression\n",
    "log_reg = LogisticRegression(max_iter=1000).fit(X_train, y_train)\n",
    "print(\"Dataset 1 training score: {}\".format(log_reg.score(X_train, y_train)))\n",
    "print(\"Dataset 1 test score: {}\".format(log_reg.score(X_test, y_test)))"
   ]
  },
  {
   "cell_type": "code",
   "execution_count": 93,
   "id": "c69ecd05",
   "metadata": {},
   "outputs": [
    {
     "name": "stdout",
     "output_type": "stream",
     "text": [
      "Average cross-validation score: 0.95\n"
     ]
    }
   ],
   "source": [
    "# Jeg tester modellens generaliseringspotentiale med cross-validation på datasættet.\n",
    "from sklearn.model_selection import cross_val_score\n",
    "scores = cross_val_score(log_reg, bag_of_words, y, cv=5)\n",
    "print(\"Average cross-validation score: {:.2f}\".format(scores.mean()))"
   ]
  }
 ],
 "metadata": {
  "kernelspec": {
   "display_name": "Python 3",
   "language": "python",
   "name": "python3"
  },
  "language_info": {
   "codemirror_mode": {
    "name": "ipython",
    "version": 3
   },
   "file_extension": ".py",
   "mimetype": "text/x-python",
   "name": "python",
   "nbconvert_exporter": "python",
   "pygments_lexer": "ipython3",
   "version": "3.8.8"
  }
 },
 "nbformat": 4,
 "nbformat_minor": 5
}
