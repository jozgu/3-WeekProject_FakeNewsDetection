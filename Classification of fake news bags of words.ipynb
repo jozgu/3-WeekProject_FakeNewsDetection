{
 "cells": [
  {
   "cell_type": "markdown",
   "id": "d9837777",
   "metadata": {},
   "source": [
    "# Classification of fake news"
   ]
  },
  {
   "cell_type": "markdown",
   "id": "fca13f8f",
   "metadata": {},
   "source": [
    "I am using the dataset from Kaggle. I first want to retrieve this and convert it to a dataframe object"
   ]
  },
  {
   "cell_type": "code",
   "execution_count": 68,
   "id": "dc27305c",
   "metadata": {},
   "outputs": [],
   "source": [
    "import pandas as pd\n",
    "import numpy as np\n",
    "pd.set_option('display.max_columns', 500)"
   ]
  },
  {
   "cell_type": "code",
   "execution_count": 85,
   "id": "c086d11d",
   "metadata": {},
   "outputs": [
    {
     "name": "stdout",
     "output_type": "stream",
     "text": [
      "65698\n"
     ]
    }
   ],
   "source": [
    "# Importer det første datasæt\n",
    "df1 = pd.read_csv(\"True.csv\")\n",
    "df2 = pd.read_csv(\"Fake.csv\")\n",
    "\n",
    "df = pd.concat([df1, df2], ignore_index=True)\n",
    "\n",
    "X1 = np.array(df[\"text\"])\n",
    "\n",
    "# Lav target array, hvor 0 er en troværdig artikel og 1 er en utroværdig artikel\n",
    "a = np.zeros(len(df1))\n",
    "b = np.ones(len(df2))\n",
    "y1 = np.hstack((a, b))\n",
    "\n",
    "# Importer det andet datasæt\n",
    "df_second = pd.read_csv(\"Train.csv\")\n",
    "X2 = np.array(df_second[\"text\"])\n",
    "\n",
    "y2 = np.array(df_second[\"label\"])\n",
    "\n",
    "# Saml datasættene til et stort datasæt\n",
    "X = np.append(X1, X2)\n",
    "y = np.hstack((y1, y2))\n",
    "print(np.size(y))"
   ]
  },
  {
   "cell_type": "code",
   "execution_count": 87,
   "id": "5e79f621",
   "metadata": {},
   "outputs": [
    {
     "name": "stdout",
     "output_type": "stream",
     "text": [
      "0\n",
      "500\n",
      "1000\n",
      "1500\n",
      "2000\n",
      "2500\n",
      "3000\n",
      "3500\n",
      "4000\n",
      "4500\n",
      "5000\n",
      "5500\n",
      "6000\n",
      "6500\n",
      "7000\n",
      "7500\n",
      "8000\n",
      "8500\n",
      "9000\n",
      "9500\n",
      "10000\n",
      "10500\n",
      "11000\n",
      "11500\n",
      "12000\n",
      "12500\n",
      "13000\n",
      "13500\n",
      "14000\n",
      "14500\n",
      "15000\n",
      "15500\n",
      "16000\n",
      "16500\n",
      "17000\n",
      "17500\n",
      "18000\n",
      "18500\n",
      "19000\n",
      "19500\n",
      "20000\n",
      "20500\n",
      "21000\n",
      "21500\n",
      "22000\n",
      "22500\n",
      "23000\n",
      "23500\n",
      "24000\n",
      "24500\n",
      "25000\n",
      "25500\n",
      "26000\n",
      "26500\n",
      "27000\n",
      "27500\n",
      "28000\n",
      "28500\n",
      "29000\n",
      "29500\n",
      "30000\n",
      "30500\n",
      "31000\n",
      "31500\n",
      "32000\n",
      "32500\n",
      "33000\n",
      "33500\n",
      "34000\n",
      "34500\n",
      "35000\n",
      "35500\n",
      "36000\n",
      "36500\n",
      "37000\n",
      "37500\n",
      "38000\n",
      "38500\n",
      "39000\n",
      "39500\n",
      "40000\n",
      "40500\n",
      "41000\n",
      "41500\n",
      "42000\n",
      "42500\n",
      "43000\n",
      "43500\n",
      "44000\n",
      "44500\n",
      "45000\n",
      "45500\n",
      "46000\n",
      "46500\n",
      "47000\n",
      "47500\n",
      "48000\n",
      "48500\n",
      "49000\n",
      "49500\n",
      "50000\n",
      "50500\n",
      "51000\n",
      "51500\n",
      "52000\n",
      "52500\n",
      "53000\n",
      "53500\n",
      "54000\n",
      "54500\n",
      "55000\n",
      "55500\n",
      "56000\n",
      "56500\n",
      "57000\n",
      "57500\n",
      "58000\n",
      "58500\n",
      "59000\n",
      "59500\n",
      "60000\n",
      "60500\n",
      "61000\n",
      "61500\n",
      "62000\n",
      "62500\n",
      "63000\n",
      "63500\n",
      "64000\n",
      "64500\n",
      "65000\n",
      "65500\n",
      "(65698,)\n",
      "(64539,)\n",
      "65698\n",
      "64539\n"
     ]
    }
   ],
   "source": [
    "import re\n",
    "from nltk.stem import PorterStemmer\n",
    "ps = PorterStemmer()\n",
    "failed_files = []\n",
    "corpus = []\n",
    "for i, text in enumerate(X):\n",
    "    if i % 500 == 0:\n",
    "        print(i)\n",
    "    # try-statement benyttes, da nogen artikler blot indeholder nan, hvilket vil give fejl senere\n",
    "    try:\n",
    "        text_oa = re.sub(\"[^a-zA-Z]\", \" \", text)\n",
    "\n",
    "        text_oa = text_oa.lower()\n",
    "        text_oa = text_oa.split()\n",
    "\n",
    "        # stopwords filtreres fra og artikler med 5 eller færrere ord tilbage fjernes, da vi ikke mener at de bidrager\n",
    "        # til opfattelsen af fake news. Dette hjælper også til at undgå fejl senere\n",
    "\n",
    "        filtered_article = [ps.stem(w) for w in text_oa if w not in stop_words and len(w) > 1]\n",
    "        if len(filtered_article) > 5:\n",
    "            corpus.append(\" \".join(filtered_article))\n",
    "        else:\n",
    "            failed_files.append(i)\n",
    "    except TypeError:\n",
    "        failed_files.append(i)\n",
    "\n",
    "# Tilpas target, da nogen artikler er blevet fjernet\n",
    "print(np.shape(y))\n",
    "y = np.delete(y, failed_files)\n",
    "print(np.shape(y))\n",
    "\n",
    "print(len(X))\n",
    "print(len(corpus))"
   ]
  },
  {
   "cell_type": "code",
   "execution_count": 131,
   "id": "5cf9995d",
   "metadata": {},
   "outputs": [
    {
     "name": "stdout",
     "output_type": "stream",
     "text": [
      "64539\n"
     ]
    }
   ],
   "source": [
    "print(len(corpus))"
   ]
  },
  {
   "cell_type": "code",
   "execution_count": 133,
   "id": "8c121517",
   "metadata": {},
   "outputs": [
    {
     "name": "stdout",
     "output_type": "stream",
     "text": [
      "Vocabulary size: 157735\n"
     ]
    }
   ],
   "source": [
    "# Corpus for datasættet omdannes til en bag of words\n",
    "from sklearn.feature_extraction.text import CountVectorizer\n",
    "vect = CountVectorizer()\n",
    "vect.fit(corpus)\n",
    "\n",
    "print(\"Vocabulary size: {}\".format(len(vect.vocabulary_)))"
   ]
  },
  {
   "cell_type": "code",
   "execution_count": 135,
   "id": "f09168d8",
   "metadata": {},
   "outputs": [
    {
     "name": "stdout",
     "output_type": "stream",
     "text": [
      "Number of features: 157735\n",
      "Every 2000th feature:\n",
      "['aa', 'afir', 'allnewspipelin', 'antibiot', 'ashkenazim', 'azzad', 'bazhina', 'bfwogsdli', 'boghossian', 'brocksmith', 'callerbut', 'cemment', 'christiebooktitl', 'colickey', 'cornczech', 'cursor', 'decirlo', 'dhati', 'dominski', 'dystrophin', 'embl', 'esquadra', 'fallist', 'fisherhil', 'fremmed', 'gbmnyc', 'glaciologist', 'grigoropoulo', 'hambley', 'henni', 'hongcai', 'ideologicznej', 'inni', 'iwmqedylyxhiem', 'jinx', 'kalvin', 'khazar', 'koryto', 'landofthefre', 'lgm', 'losgoy', 'maison', 'masum', 'memel', 'miradoreltd', 'moschochor', 'mzu', 'netti', 'nonpregn', 'ocx', 'ortel', 'paraffin', 'perserver', 'plush', 'preponder', 'purpos', 'raiwind', 'registado', 'rickscott', 'rrikrvwon', 'sandersdown', 'scribbl', 'shana', 'simplex', 'solnick', 'stapler', 'suffic', 'taillef', 'testament', 'tishomingo', 'triabl', 'tyrannei', 'unphas', 'vcf', 'void', 'weei', 'wkzcm', 'xxwq', 'zander']\n"
     ]
    }
   ],
   "source": [
    "# Undersøg parametre for bag_of_words\n",
    "feature_names = vect.get_feature_names()\n",
    "print(\"Number of features: {}\".format(len(feature_names)))\n",
    "print(\"Every 2000th feature:\\n{}\".format(feature_names[::2000]))"
   ]
  },
  {
   "cell_type": "code",
   "execution_count": 107,
   "id": "7310e17a",
   "metadata": {},
   "outputs": [
    {
     "name": "stdout",
     "output_type": "stream",
     "text": [
      "Vocabulary size: 54068\n",
      "Number of features: 54068\n",
      "Every 500th feature:\n",
      "['aa', 'akkuyu', 'antichrist', 'audienc', 'battisti', 'bittman', 'brethren', 'canelli', 'cheapskat', 'coder', 'cortison', 'dal', 'designe', 'dontholdupthelin', 'ehud', 'establec', 'feeheri', 'fountain', 'gelbard', 'graft', 'handbook', 'hilstrom', 'ibex', 'intercom', 'jetstar', 'keitholbermann', 'kumailn', 'lew', 'lustig', 'masharipov', 'metropoli', 'montant', 'naruhito', 'noncombat', 'oneunit', 'papp', 'phish', 'povo', 'puzzler', 'receptionist', 'ricci', 'ryol', 'scotttaylorva', 'shibley', 'smother', 'staley', 'superdom', 'telecinco', 'tomlinsoncj', 'twiter', 'unsavori', 'viewpoint', 'wengui', 'wzpqcoaajqvz', 'zuckerman']\n"
     ]
    }
   ],
   "source": [
    "# Da der tydeligvis er mange ord, der ikke giver mening benytter vi en indbygget parameter til at bestemme,\n",
    "# at ord skal optræde i minimum 3 dokumenter for at blive godtaget i vores bag og words\n",
    "vect = CountVectorizer(min_df=3).fit(corpus)\n",
    "print(\"Vocabulary size: {}\".format(len(vect.vocabulary_)))\n",
    "\n",
    "feature_names = vect.get_feature_names()\n",
    "print(\"Number of features: {}\".format(len(feature_names)))\n",
    "print(\"Every 500th feature:\\n{}\".format(feature_names[::1000]))"
   ]
  },
  {
   "cell_type": "code",
   "execution_count": 108,
   "id": "8fb7dc0c",
   "metadata": {},
   "outputs": [
    {
     "name": "stdout",
     "output_type": "stream",
     "text": [
      "bag_of_words: <64539x54068 sparse matrix of type '<class 'numpy.int64'>'\n",
      "\twith 11741370 stored elements in Compressed Sparse Row format>\n",
      "Training articles: 48404\n",
      "Test articles: 16135\n"
     ]
    }
   ],
   "source": [
    "# Dataen transformeres\n",
    "bag_of_words = vect.transform(corpus)\n",
    "print(\"bag_of_words: {}\".format(repr(bag_of_words)))\n",
    "\n",
    "# Dataen opdeles nu i en træningsdel og en testdel\n",
    "from sklearn.model_selection import train_test_split\n",
    "\n",
    "# Datasæt 1\n",
    "X_train, X_test, y_train, y_test = train_test_split(bag_of_words, y, random_state=0)\n",
    "print(\"Training articles: {}\\nTest articles: {}\".format(np.size(y_train), np.size(y_test)))"
   ]
  },
  {
   "cell_type": "code",
   "execution_count": 109,
   "id": "861ad971",
   "metadata": {},
   "outputs": [
    {
     "name": "stdout",
     "output_type": "stream",
     "text": [
      "Dataset 1 training score: 0.9997727460540451\n",
      "Dataset 1 test score: 0.962751781840719\n"
     ]
    }
   ],
   "source": [
    "from sklearn.linear_model import LogisticRegression\n",
    "log_reg = LogisticRegression(max_iter=1000).fit(X_train, y_train)\n",
    "print(\"Dataset 1 training score: {}\".format(log_reg.score(X_train, y_train)))\n",
    "print(\"Dataset 1 test score: {}\".format(log_reg.score(X_test, y_test)))"
   ]
  },
  {
   "cell_type": "code",
   "execution_count": 110,
   "id": "e9fe9a95",
   "metadata": {},
   "outputs": [
    {
     "name": "stdout",
     "output_type": "stream",
     "text": [
      "Average cross-validation score: 0.95\n"
     ]
    }
   ],
   "source": [
    "# Jeg tester modellens generaliseringspotentiale med cross-validation på datasættet.\n",
    "from sklearn.model_selection import cross_val_score\n",
    "scores = cross_val_score(log_reg, bag_of_words, y, cv=5)\n",
    "print(\"Average cross-validation score: {:.2f}\".format(scores.mean()))"
   ]
  },
  {
   "cell_type": "code",
   "execution_count": 97,
   "id": "716df0e0",
   "metadata": {},
   "outputs": [
    {
     "name": "stdout",
     "output_type": "stream",
     "text": [
      "Collecting mglearn\n",
      "  Using cached mglearn-0.1.9.tar.gz (540 kB)\n",
      "Requirement already satisfied: numpy in c:\\users\\alexander\\anaconda3\\lib\\site-packages (from mglearn) (1.20.1)\n",
      "Requirement already satisfied: matplotlib in c:\\users\\alexander\\anaconda3\\lib\\site-packages (from mglearn) (3.3.4)\n",
      "Requirement already satisfied: scikit-learn in c:\\users\\alexander\\anaconda3\\lib\\site-packages (from mglearn) (0.24.1)\n",
      "Requirement already satisfied: pandas in c:\\users\\alexander\\anaconda3\\lib\\site-packages (from mglearn) (1.2.4)\n",
      "Requirement already satisfied: pillow in c:\\users\\alexander\\anaconda3\\lib\\site-packages (from mglearn) (8.2.0)\n",
      "Requirement already satisfied: cycler in c:\\users\\alexander\\anaconda3\\lib\\site-packages (from mglearn) (0.10.0)\n",
      "Requirement already satisfied: imageio in c:\\users\\alexander\\anaconda3\\lib\\site-packages (from mglearn) (2.9.0)\n",
      "Requirement already satisfied: joblib in c:\\users\\alexander\\anaconda3\\lib\\site-packages (from mglearn) (1.0.1)\n",
      "Requirement already satisfied: six in c:\\users\\alexander\\anaconda3\\lib\\site-packages (from cycler->mglearn) (1.15.0)\n",
      "Requirement already satisfied: kiwisolver>=1.0.1 in c:\\users\\alexander\\anaconda3\\lib\\site-packages (from matplotlib->mglearn) (1.3.1)\n",
      "Requirement already satisfied: pyparsing!=2.0.4,!=2.1.2,!=2.1.6,>=2.0.3 in c:\\users\\alexander\\anaconda3\\lib\\site-packages (from matplotlib->mglearn) (2.4.7)\n",
      "Requirement already satisfied: python-dateutil>=2.1 in c:\\users\\alexander\\anaconda3\\lib\\site-packages (from matplotlib->mglearn) (2.8.1)\n",
      "Requirement already satisfied: pytz>=2017.3 in c:\\users\\alexander\\anaconda3\\lib\\site-packages (from pandas->mglearn) (2021.1)\n",
      "Requirement already satisfied: threadpoolctl>=2.0.0 in c:\\users\\alexander\\anaconda3\\lib\\site-packages (from scikit-learn->mglearn) (2.1.0)\n",
      "Requirement already satisfied: scipy>=0.19.1 in c:\\users\\alexander\\anaconda3\\lib\\site-packages (from scikit-learn->mglearn) (1.6.2)\n",
      "Building wheels for collected packages: mglearn\n",
      "  Building wheel for mglearn (setup.py): started\n",
      "  Building wheel for mglearn (setup.py): finished with status 'done'\n",
      "  Created wheel for mglearn: filename=mglearn-0.1.9-py2.py3-none-any.whl size=582638 sha256=eec37a0474f8190eed66a417ec47a5b28b3308e1f22b2eeef82ba2e3f4c8af35\n",
      "  Stored in directory: c:\\users\\alexander\\appdata\\local\\pip\\cache\\wheels\\87\\75\\37\\404e66d0c4bad150f101c9a0914b11a8eccc2681559936e7f7\n",
      "Successfully built mglearn\n",
      "Installing collected packages: mglearn\n",
      "Successfully installed mglearn-0.1.9\n"
     ]
    }
   ],
   "source": [
    "!pip install mglearn"
   ]
  },
  {
   "cell_type": "code",
   "execution_count": 99,
   "id": "074d5bf6",
   "metadata": {},
   "outputs": [],
   "source": [
    "# Jeg prøver at lave en tfidf-repræsentation af min bag_of_words,\n",
    "# sådan så jeg kan vurdere hvilke ord modellen lægger mest vægt på.\n",
    "from sklearn.feature_extraction.text import TfidfVectorizer\n",
    "import matplotlib.pyplot as plt\n",
    "%matplotlib inline"
   ]
  },
  {
   "cell_type": "code",
   "execution_count": 115,
   "id": "eea7c813",
   "metadata": {},
   "outputs": [
    {
     "name": "stdout",
     "output_type": "stream",
     "text": [
      "Average cross-validation score: 0.93\n"
     ]
    }
   ],
   "source": [
    "# Opret en bag of words som er skaleret i forhold til tf og idf. Fjern ord, der ikke optræder i mindst 5 dokumenter\n",
    "vect = TfidfVectorizer(min_df=5)\n",
    "vect.fit(corpus)\n",
    "tfidf = vect.transform(corpus)\n",
    "\n",
    "# Jeg tester modellens generaliseringspotentiale med cross-validation på datasættet.\n",
    "from sklearn.model_selection import cross_val_score\n",
    "scores = cross_val_score(log_reg, tfidf, y, cv=5)\n",
    "print(\"Average cross-validation score: {:.2f}\".format(scores.mean()))"
   ]
  },
  {
   "cell_type": "code",
   "execution_count": 116,
   "id": "aabe616b",
   "metadata": {},
   "outputs": [
    {
     "name": "stdout",
     "output_type": "stream",
     "text": [
      "Feature names with lowest tfidf score:\n",
      "['alis' 'geopol' 'dominant' 'crimescap' 'sencillo' 'paradigma' 'planetoid'\n",
      " 'contol' 'taquiyya' 'tractabl' 'milkman' 'jeantel' 'springbreak'\n",
      " 'babtist' 'hickox' 'heteron' 'sudaf' 'dontholdupthelin' 'sportsplac'\n",
      " 'smurfdom']\n",
      "Feature names with highest tfidf score:\n",
      "['fluorid' 'petrov' 'sibur' 'hemp' 'spieth' 'pavarotti' 'pumpkin'\n",
      " 'bitcoin' 'coyot' 'sh' 'magnesium' 'wikileak' 'chakra' 'schiaparelli'\n",
      " 'iodin' 'scotusblog' 'donkey' 'case' 'counti' 'rt']\n"
     ]
    }
   ],
   "source": [
    "# Find de features der har lavest og højest tfidf værdi i datasættet. Dette giver et bud om hvilke\n",
    "# ord der bør være mest informative om en artikels indhold\n",
    "max_value = tfidf.max(axis=0).toarray().ravel()\n",
    "sorted_by_tfidf = max_value.argsort()\n",
    "feature_names = np.array(vect.get_feature_names())\n",
    "\n",
    "print(\"Feature names with lowest tfidf score:\\n{}\".format(feature_names[sorted_by_tfidf[:20]]))\n",
    "print(\"Feature names with highest tfidf score:\\n{}\".format(feature_names[sorted_by_tfidf[-20:]]))"
   ]
  },
  {
   "cell_type": "code",
   "execution_count": 126,
   "id": "2d2b04d7",
   "metadata": {},
   "outputs": [
    {
     "name": "stdout",
     "output_type": "stream",
     "text": [
      "done\n"
     ]
    }
   ],
   "source": [
    "# Denne kode er taget direkte fra \"Introduction to machine learning with python\"\n",
    "from sklearn.pipeline import make_pipeline\n",
    "from sklearn.model_selection import GridSearchCV\n",
    "pipe = make_pipeline(TfidfVectorizer(min_df=5, norm=None),\n",
    "                    LogisticRegression(max_iter=1000))\n",
    "param_grid = {'logisticregression__C': [0.001, 0.01, 0.1, 1, 10]}\n",
    "\n",
    "grid = GridSearchCV(pipe, param_grid, cv=5)\n",
    "grid.fit(corpus, y)\n",
    "print(\"done\")"
   ]
  },
  {
   "cell_type": "code",
   "execution_count": 128,
   "id": "a8a20d3a",
   "metadata": {},
   "outputs": [
    {
     "data": {
      "image/png": "[encoded data removed]",
      "text/plain": [
       "<Figure size 1080x360 with 1 Axes>"
      ]
     },
     "metadata": {
      "needs_background": "light"
     },
     "output_type": "display_data"
    }
   ],
   "source": [
    "# Hent feature names og lav plot\n",
    "vectorizer = grid.best_estimator_.named_steps[\"tfidfvectorizer\"]\n",
    "feature_names = np.array(vectorizer.get_feature_names())\n",
    "import mglearn\n",
    "mglearn.tools.visualize_coefficients(grid.best_estimator_.named_steps[\"logisticregression\"].coef_,\n",
    "                                     feature_names, n_top_features=40)"
   ]
  },
  {
   "cell_type": "code",
   "execution_count": null,
   "id": "06cc0968",
   "metadata": {},
   "outputs": [],
   "source": []
  }
 ],
 "metadata": {
  "kernelspec": {
   "display_name": "Python 3",
   "language": "python",
   "name": "python3"
  },
  "language_info": {
   "codemirror_mode": {
    "name": "ipython",
    "version": 3
   },
   "file_extension": ".py",
   "mimetype": "text/x-python",
   "name": "python",
   "nbconvert_exporter": "python",
   "pygments_lexer": "ipython3",
   "version": "3.8.8"
  }
 },
 "nbformat": 4,
 "nbformat_minor": 5
}
